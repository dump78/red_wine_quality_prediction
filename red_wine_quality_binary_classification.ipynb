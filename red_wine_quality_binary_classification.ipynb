{
 "cells": [
  {
   "cell_type": "code",
   "execution_count": 34,
   "metadata": {
    "executionInfo": {
     "elapsed": 307,
     "status": "ok",
     "timestamp": 1658029353791,
     "user": {
      "displayName": "Anastasia Serykh",
      "userId": "12127809895459419922"
     },
     "user_tz": -420
    },
    "id": "OjG5FIJhv4MO"
   },
   "outputs": [],
   "source": [
    "import pandas as pd\n",
    "from sklearn.ensemble import RandomForestClassifier\n",
    "from sklearn.model_selection import train_test_split\n",
    "from sklearn.model_selection import GridSearchCV\n",
    "from sklearn.metrics import classification_report\n",
    "from sklearn.svm import SVC"
   ]
  },
  {
   "cell_type": "code",
   "execution_count": 35,
   "metadata": {
    "colab": {
     "base_uri": "https://localhost:8080/"
    },
    "executionInfo": {
     "elapsed": 11,
     "status": "ok",
     "timestamp": 1658029355080,
     "user": {
      "displayName": "Anastasia Serykh",
      "userId": "12127809895459419922"
     },
     "user_tz": -420
    },
    "id": "gRYlXRWKujFA",
    "outputId": "14142960-ff1c-4f12-dcfe-4356e01d3349"
   },
   "outputs": [
    {
     "name": "stdout",
     "output_type": "stream",
     "text": [
      "<class 'pandas.core.frame.DataFrame'>\n",
      "RangeIndex: 1599 entries, 0 to 1598\n",
      "Data columns (total 12 columns):\n",
      " #   Column                Non-Null Count  Dtype  \n",
      "---  ------                --------------  -----  \n",
      " 0   fixed acidity         1599 non-null   float64\n",
      " 1   volatile acidity      1599 non-null   float64\n",
      " 2   citric acid           1599 non-null   float64\n",
      " 3   residual sugar        1599 non-null   float64\n",
      " 4   chlorides             1599 non-null   float64\n",
      " 5   free sulfur dioxide   1599 non-null   float64\n",
      " 6   total sulfur dioxide  1599 non-null   float64\n",
      " 7   density               1599 non-null   float64\n",
      " 8   pH                    1599 non-null   float64\n",
      " 9   sulphates             1599 non-null   float64\n",
      " 10  alcohol               1599 non-null   float64\n",
      " 11  quality               1599 non-null   int64  \n",
      "dtypes: float64(11), int64(1)\n",
      "memory usage: 150.0 KB\n"
     ]
    }
   ],
   "source": [
    "data = pd.read_csv('winequality-red.csv')\n",
    "data.info()"
   ]
  },
  {
   "cell_type": "code",
   "execution_count": 36,
   "metadata": {
    "colab": {
     "base_uri": "https://localhost:8080/"
    },
    "executionInfo": {
     "elapsed": 753,
     "status": "ok",
     "timestamp": 1658029357888,
     "user": {
      "displayName": "Anastasia Serykh",
      "userId": "12127809895459419922"
     },
     "user_tz": -420
    },
    "id": "Jq-5dGUFwae9",
    "outputId": "6561a8ea-040f-4143-dd32-cdb11851493b"
   },
   "outputs": [
    {
     "name": "stdout",
     "output_type": "stream",
     "text": [
      "              precision    recall  f1-score   support\n",
      "\n",
      "           0       0.78      0.76      0.77       213\n",
      "           1       0.81      0.83      0.82       267\n",
      "\n",
      "    accuracy                           0.80       480\n",
      "   macro avg       0.80      0.79      0.79       480\n",
      "weighted avg       0.80      0.80      0.80       480\n",
      "\n",
      "                      Gini-Importance\n",
      "alcohol                      0.190253\n",
      "sulphates                    0.133746\n",
      "volatile acidity             0.107636\n",
      "total sulfur dioxide         0.100088\n",
      "density                      0.093044\n",
      "chlorides                    0.073374\n",
      "citric acid                  0.062625\n",
      "fixed acidity                0.062466\n",
      "pH                           0.062209\n",
      "free sulfur dioxide          0.057463\n",
      "residual sugar               0.057095\n"
     ]
    }
   ],
   "source": [
    "# Обучение модели случайного леса\n",
    "\n",
    "X = data.drop(['quality'], axis = 1)\n",
    "y = data['quality']\n",
    "\n",
    "X_train, X_test, y_train, y_test = train_test_split(X, y, test_size = 0.3, random_state = 42)\n",
    "\n",
    "rand_forest_classif = RandomForestClassifier()\n",
    "rand_forest_classif.fit(X_train, y_train)\n",
    "\n",
    "y_pred = rand_forest_classif.predict(X_test)\n",
    "print(classification_report(y_test, y_pred))\n",
    "\n",
    "# Важность признаков для модели классификации (Gini impurity)\n",
    "feats = {}\n",
    "for feature, importance in zip(data.columns, rand_forest_classif.feature_importances_):\n",
    "    feats[feature] = importance\n",
    "\n",
    "importances = pd.DataFrame.from_dict(feats, orient='index').rename(columns={0: 'Gini-Importance'})\n",
    "print(importances.sort_values(by='Gini-Importance', ascending=False))"
   ]
  },
  {
   "cell_type": "markdown",
   "metadata": {
    "id": "jtwIiyHUA4QI"
   },
   "source": [
    "Если связывать качество вина с его стоимостью, то важнее определять вино плохого качества, которое позиционируется как вино хорошего качества. Необходимо снизить количество ложноположительных объектов, поэтому больше подходит метрика точность (precision). Если учесть цену ошибки, то важна точность для вина истинно низкого качества (precision 0). "
   ]
  },
  {
   "cell_type": "markdown",
   "metadata": {
    "id": "3OSKmKVx_inf"
   },
   "source": [
    "Самый информативный признак - содержание спирта (alcohol). Наименее информативный - остаточный сахар (residual sugar)."
   ]
  },
  {
   "cell_type": "code",
   "execution_count": 37,
   "metadata": {
    "colab": {
     "base_uri": "https://localhost:8080/"
    },
    "executionInfo": {
     "elapsed": 999,
     "status": "ok",
     "timestamp": 1658029365832,
     "user": {
      "displayName": "Anastasia Serykh",
      "userId": "12127809895459419922"
     },
     "user_tz": -420
    },
    "id": "7h-qJKgHvFip",
    "outputId": "fee905b3-fcec-4cdf-c04d-b38cda2615b8"
   },
   "outputs": [
    {
     "name": "stdout",
     "output_type": "stream",
     "text": [
      "              precision    recall  f1-score   support\n",
      "\n",
      "           0       0.66      0.74      0.70       213\n",
      "           1       0.77      0.70      0.73       267\n",
      "\n",
      "    accuracy                           0.72       480\n",
      "   macro avg       0.72      0.72      0.72       480\n",
      "weighted avg       0.72      0.72      0.72       480\n",
      "\n"
     ]
    }
   ],
   "source": [
    "# Сравнение с методом опорных векторов\n",
    "\n",
    "svm = SVC(kernel ='linear')\n",
    "svm.fit(X_train, y_train)\n",
    "y_pred = svm.predict(X_test)\n",
    "\n",
    "print(classification_report(y_test, y_pred))"
   ]
  },
  {
   "cell_type": "markdown",
   "metadata": {
    "id": "MfN9_DjsIBiS"
   },
   "source": [
    "Вывод: для  линейной SVM-модели выбранная метрика оценки качества имеет меньшее значение (precision для ложноположительных объектов (0) 0.66 против 0.78 для RFC). Следовательно, модель случайного леса справляется с задачей лучше."
   ]
  }
 ],
 "metadata": {
  "colab": {
   "authorship_tag": "ABX9TyOtAWMfiUjOtchviTsjqa6o",
   "collapsed_sections": [],
   "name": "Практическое задание №1.6.6.ipynb",
   "provenance": []
  },
  "kernelspec": {
   "display_name": "Python 3 (ipykernel)",
   "language": "python",
   "name": "python3"
  },
  "language_info": {
   "codemirror_mode": {
    "name": "ipython",
    "version": 3
   },
   "file_extension": ".py",
   "mimetype": "text/x-python",
   "name": "python",
   "nbconvert_exporter": "python",
   "pygments_lexer": "ipython3",
   "version": "3.9.12"
  }
 },
 "nbformat": 4,
 "nbformat_minor": 1
}
